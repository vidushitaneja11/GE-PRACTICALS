{
 "cells": [
  {
   "cell_type": "code",
   "execution_count": 1,
   "id": "501155c7",
   "metadata": {},
   "outputs": [
    {
     "name": "stdout",
     "output_type": "stream",
     "text": [
      "Enter Texthello\n",
      "Enter Key3\n",
      "Text:  hello\n",
      "Key:  3\n",
      "Encrypted text khoor\n"
     ]
    }
   ],
   "source": [
    "def encrypt(text, key):\n",
    "    result=\"\"\n",
    "    for i in range(len(text)):\n",
    "        char = text[i]\n",
    "        \n",
    "        if (char.isupper()):\n",
    "            result += chr((ord(char) + key-65) % 26 + 65)\n",
    "        else: \n",
    "            result += chr((ord(char) + key - 97)%26 + 97)\n",
    "    return result\n",
    "text = input('Enter Text')\n",
    "key = int(input('Enter Key'))\n",
    "\n",
    "print(\"Text: \", text)\n",
    "print('Key: ', key)\n",
    "print('Encrypted text', encrypt(text, key))"
   ]
  },
  {
   "cell_type": "code",
   "execution_count": 2,
   "id": "de8a4a07",
   "metadata": {},
   "outputs": [
    {
     "name": "stdout",
     "output_type": "stream",
     "text": [
      "Enter Text to decipherkhoor\n",
      "Enter Key3\n",
      "Text to decipher:  khoor\n",
      "Key:  3\n",
      "Decrypted text hello\n"
     ]
    }
   ],
   "source": [
    "text = input('Enter Text to decipher')\n",
    "key = int(input('Enter Key'))\n",
    "\n",
    "print(\"Text to decipher: \", text)\n",
    "print('Key: ', key)\n",
    "print('Decrypted text', encrypt(text, 26-key))"
   ]
  },
  {
   "cell_type": "code",
   "execution_count": 8,
   "id": "2c548775",
   "metadata": {},
   "outputs": [
    {
     "name": "stdout",
     "output_type": "stream",
     "text": [
      "Text to encryptvidushi taneja \n",
      "3\n",
      "vstjiuh aeadin \n",
      "vidushi taneja \n"
     ]
    }
   ],
   "source": [
    "def RailFenceEncrypt(text, key):\n",
    "    rail = [['\\n' for i in range(len(text))]\n",
    "                  for j in range(key)]\n",
    "    dir_down = False\n",
    "    row, col = 0,0\n",
    "    \n",
    "    for i in range(len(text)):\n",
    "        if (row == 0) or (row == key - 1):\n",
    "            dir_down = not dir_down\n",
    "        rail[row][col] = text[i]\n",
    "        col += 1\n",
    "        \n",
    "        if dir_down:\n",
    "            row += 1\n",
    "        else:\n",
    "            row -= 1\n",
    "    result = []\n",
    "    for i in range(key):\n",
    "        for j in range(len(text)):\n",
    "            if rail[i][j] != '\\n':\n",
    "                result.append(rail[i][j])\n",
    "    return(\"\" . join(result))\n",
    "\n",
    "\n",
    "def RailFenceDecrypt(cipher, text):\n",
    "    rail = [['\\n' for i in range(len(cipher))]\n",
    "                  for j in range(key)]\n",
    "    dir_down = None\n",
    "    row, col = 0, 0\n",
    "    \n",
    "    for i in range(len(cipher)):\n",
    "        if row == 0:\n",
    "            dir_down = True\n",
    "        if row == key - 1:\n",
    "            dir_down = False\n",
    "        rail[row][col] = '*'\n",
    "        col += 1\n",
    "        \n",
    "        if dir_down:\n",
    "            row += 1\n",
    "        else:\n",
    "            row -= 1\n",
    "    index = 0\n",
    "    for i in range(key):\n",
    "        for j in range(len(cipher)):\n",
    "            if ((rail[i][j] == '*') and\n",
    "               (index < len(cipher))):\n",
    "                rail[i][j] = cipher[index]\n",
    "                index += 1\n",
    "    result = []\n",
    "    row, col = 0, 0\n",
    "    for i in range(len(cipher)):\n",
    "        if row == 0:\n",
    "            dir_down = True\n",
    "        if row == key-1:\n",
    "            dir_down = False\n",
    "        if (rail[row][col] != '*'):\n",
    "            result.append(rail[row][col])\n",
    "            col += 1\n",
    "        if dir_down:\n",
    "            row += 1\n",
    "        else:\n",
    "            row -= 1\n",
    "    return(\"\".join(result))\n",
    "if __name__ == \"__main__\":\n",
    "    text = input('Text to encrypt')\n",
    "    key = int(input())\n",
    "    print(RailFenceEncrypt(text, key))\n",
    "    print(RailFenceDecrypt(RailFenceEncrypt(text, key), key))\n",
    "    "
   ]
  },
  {
   "cell_type": "code",
   "execution_count": null,
   "id": "963c4324",
   "metadata": {},
   "outputs": [],
   "source": []
  }
 ],
 "metadata": {
  "kernelspec": {
   "display_name": "Python 3",
   "language": "python",
   "name": "python3"
  },
  "language_info": {
   "codemirror_mode": {
    "name": "ipython",
    "version": 3
   },
   "file_extension": ".py",
   "mimetype": "text/x-python",
   "name": "python",
   "nbconvert_exporter": "python",
   "pygments_lexer": "ipython3",
   "version": "3.8.8"
  }
 },
 "nbformat": 4,
 "nbformat_minor": 5
}
